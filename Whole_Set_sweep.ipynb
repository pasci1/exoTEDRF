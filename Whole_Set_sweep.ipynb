{
 "cells": [
  {
   "cell_type": "code",
   "execution_count": 1,
   "id": "32bf10aa-12b9-48bf-89e6-5d78ea10e9ed",
   "metadata": {},
   "outputs": [
    {
     "data": {
      "text/plain": [
       "'jwst_1322.pmap'"
      ]
     },
     "execution_count": 1,
     "metadata": {},
     "output_type": "execute_result"
    }
   ],
   "source": [
    "import os\n",
    "os.environ.setdefault('CRDS_PATH', os.path.join(os.getcwd(),'Optimize_WASP39b','crds_cache'))\n",
    "os.environ.setdefault('CRDS_SERVER_URL', 'https://jwst-crds.stsci.edu')\n",
    "os.environ.setdefault('CRDS_CONTEXT',    'jwst_1322.pmap')"
   ]
  },
  {
   "cell_type": "code",
   "execution_count": 2,
   "id": "cd16faef-be1a-4851-a391-a1ee30f0708c",
   "metadata": {},
   "outputs": [
    {
     "name": "stdout",
     "output_type": "stream",
     "text": [
      "2025-07-28 15:06:07,891 - stpipe - WARNING - /data/pascal/exoTEDRF_fork/exoenv_fork/lib/python3.10/site-packages/pastasoss/soss_traces.py:10: UserWarning: pkg_resources is deprecated as an API. See https://setuptools.pypa.io/en/latest/pkg_resources.html. The pkg_resources package is slated for removal as early as 2025-11-30. Refrain from using this package or pin to Setuptools<81.\n",
      "  from pkg_resources import resource_filename\n",
      "\n",
      "WebbPSF not installed. Profile simulation not available.\n",
      "2025-07-28 15:06:07.919 - exoTEDRF - INFO - [WARN] No files in Optimize_WASP39b/DMS_uncal, globbing *.fits\n",
      "2025-07-28 15:06:07.919 - exoTEDRF - INFO - Using 8 segment(s) from Optimize_WASP39b/DMS_uncal\n",
      "2025-07-28 15:06:24.402 - exoTEDRF - INFO - → Optimizing time_window (fixed-other={time_rejection_threshold:10, nirspec_mask_width:20, space_thresh:10, time_thresh:10, box_size:5, window_size:6, extract_width:6})\n",
      "2025-07-28 15:06:24.402 - exoTEDRF - INFO - Step 1/67: time_window=5\n",
      "\u001b[1;91mnints is:\u001b[0m 465\n",
      "\n",
      "############################################ \n",
      " Step: 1/67 starting time_window=5 \n",
      "############################################\n",
      "\n",
      "start running Stage 1 from Fork\n",
      "2025-07-28 15:06:24.402 - exoTEDRF - INFO - **Starting exoTEDRF Stage 1**\n",
      "2025-07-28 15:06:24.402 - exoTEDRF - INFO - Detector level processing\n",
      "2025-07-28 15:06:24.407 - exoTEDRF - WARNING - Setting \"save_results=False\" can be memory intensive.\n",
      "2025-07-28 15:06:24,409 - stpipe.DQInitStep - INFO - DQInitStep instance created.\n",
      "2025-07-28 15:06:26,482 - stpipe.DQInitStep - INFO - DQInitStep instance created.\n",
      "2025-07-28 15:06:26,711 - stpipe.DQInitStep - INFO - Step DQInitStep running with args (<Level1bModel(465, 70, 32, 2048) from jw01366003001_04101_00001-seg001_nrs1_uncal.fits>,).\n",
      "2025-07-28 15:06:26,713 - stpipe.DQInitStep - INFO - Step DQInitStep parameters are:\n",
      "  pre_hooks: []\n",
      "  post_hooks: []\n",
      "  output_file: None\n",
      "  output_dir: ./pipeline_outputs_directory/Stage1/\n",
      "  output_ext: .fits\n",
      "  output_use_model: False\n",
      "  output_use_index: True\n",
      "  save_results: False\n",
      "  skip: False\n",
      "  suffix: None\n",
      "  search_output_file: True\n",
      "  input_dir: ''\n",
      "2025-07-28 15:06:32,096 - stpipe.DQInitStep - INFO - Using MASK reference file /data/pascal/exoTEDRF_fork/Optimize_WASP39b/crds_cache/references/jwst/nirspec/jwst_nirspec_mask_0051.fits\n",
      "2025-07-28 15:07:28,952 - stpipe.DQInitStep - INFO - Extracting mask subarray to match science data\n",
      "2025-07-28 15:08:29,570 - stpipe.DQInitStep - INFO - Results used CRDS context: jwst_1322.pmap\n",
      "2025-07-28 15:08:29,570 - stpipe.DQInitStep - INFO - Step DQInitStep done\n",
      "2025-07-28 15:08:29,570 - stpipe - INFO - Results used jwst version: 1.17.1\n",
      "2025-07-28 15:08:29.570 - exoTEDRF - WARNING - EmiCorrStep not supported for NIRSpec/PRISM.\n",
      "2025-07-28 15:08:29.571 - exoTEDRF - WARNING - Setting \"save_results=False\" can be memory intensive.\n",
      "2025-07-28 15:08:29,572 - stpipe.SaturationStep - INFO - SaturationStep instance created.\n",
      "2025-07-28 15:08:29,581 - stpipe.SaturationStep - INFO - SaturationStep instance created.\n",
      "2025-07-28 15:08:29,786 - stpipe.SaturationStep - INFO - Step SaturationStep running with args (<RampModel(465, 70, 32, 2048) from jw01366003001_04101_00001-seg001_nrs1_uncal.fits>,).\n",
      "2025-07-28 15:08:29,788 - stpipe.SaturationStep - INFO - Step SaturationStep parameters are:\n",
      "  pre_hooks: []\n",
      "  post_hooks: []\n",
      "  output_file: None\n",
      "  output_dir: ./pipeline_outputs_directory/Stage1/\n",
      "  output_ext: .fits\n",
      "  output_use_model: False\n",
      "  output_use_index: True\n",
      "  save_results: False\n",
      "  skip: False\n",
      "  suffix: None\n",
      "  search_output_file: True\n",
      "  input_dir: ''\n",
      "  n_pix_grow_sat: 1\n",
      "  use_readpatt: True\n",
      "2025-07-28 15:08:29,798 - stpipe.SaturationStep - INFO - Using SATURATION reference file /data/pascal/exoTEDRF_fork/Optimize_WASP39b/crds_cache/references/jwst/nirspec/jwst_nirspec_saturation_0028.fits\n",
      "2025-07-28 15:09:37,685 - stpipe.SaturationStep - INFO - Extracting reference file subarray to match science data\n",
      "2025-07-28 15:09:37,692 - stpipe.SaturationStep - INFO - Using read_pattern with nframes 1\n",
      "2025-07-28 15:10:57,589 - stpipe.SaturationStep - INFO - Detected 2138 saturated pixels\n",
      "2025-07-28 15:11:11,067 - stpipe.SaturationStep - INFO - Detected 0 A/D floor pixels\n",
      "2025-07-28 15:11:11,072 - stpipe.SaturationStep - INFO - Results used CRDS context: jwst_1322.pmap\n",
      "2025-07-28 15:11:11,072 - stpipe.SaturationStep - INFO - Step SaturationStep done\n",
      "2025-07-28 15:11:11,072 - stpipe - INFO - Results used jwst version: 1.17.1\n",
      "2025-07-28 15:11:11.072 - exoTEDRF - WARNING - ResetStep not supported for NIRSpec/PRISM.\n",
      "2025-07-28 15:11:12.018 - exoTEDRF - WARNING - Setting \"save_results=False\" can be memory intensive.\n",
      "2025-07-28 15:11:12,036 - stpipe.SuperBiasStep - INFO - SuperBiasStep instance created.\n",
      "2025-07-28 15:11:12,047 - stpipe.SuperBiasStep - INFO - SuperBiasStep instance created.\n",
      "2025-07-28 15:11:12,255 - stpipe.SuperBiasStep - INFO - Step SuperBiasStep running with args (<RampModel(465, 70, 32, 2048) from jw01366003001_04101_00001-seg001_nrs1_uncal.fits>,).\n",
      "2025-07-28 15:11:12,256 - stpipe.SuperBiasStep - INFO - Step SuperBiasStep parameters are:\n",
      "  pre_hooks: []\n",
      "  post_hooks: []\n",
      "  output_file: None\n",
      "  output_dir: ./pipeline_outputs_directory/Stage1/\n",
      "  output_ext: .fits\n",
      "  output_use_model: False\n",
      "  output_use_index: True\n",
      "  save_results: False\n",
      "  skip: False\n",
      "  suffix: None\n",
      "  search_output_file: True\n",
      "  input_dir: ''\n",
      "2025-07-28 15:11:12,270 - stpipe.SuperBiasStep - INFO - Using SUPERBIAS reference file /data/pascal/exoTEDRF_fork/Optimize_WASP39b/crds_cache/references/jwst/nirspec/jwst_nirspec_superbias_0427.fits\n",
      "/bin/bash: line 1: 505175 Killed                  python3 exotedrf/Whole_set.py --config Optimize_WASP39b/run_WASP39b.yaml --instrument NIRSPEC\n",
      "\n",
      "real\t7m37.688s\n",
      "user\t1m29.796s\n",
      "sys\t6m0.886s\n"
     ]
    }
   ],
   "source": [
    "!time python3 exotedrf/Whole_set.py \\\n",
    "    --config Optimize_WASP39b/run_WASP39b.yaml \\\n",
    "    --instrument NIRSPEC"
   ]
  },
  {
   "cell_type": "code",
   "execution_count": null,
   "id": "43658ba6-3080-4d2e-a14a-edbc203342ea",
   "metadata": {},
   "outputs": [],
   "source": []
  }
 ],
 "metadata": {
  "kernelspec": {
   "display_name": "Python (exoenv_fork)",
   "language": "python",
   "name": "exoenv_fork"
  },
  "language_info": {
   "codemirror_mode": {
    "name": "ipython",
    "version": 3
   },
   "file_extension": ".py",
   "mimetype": "text/x-python",
   "name": "python",
   "nbconvert_exporter": "python",
   "pygments_lexer": "ipython3",
   "version": "3.10.12"
  }
 },
 "nbformat": 4,
 "nbformat_minor": 5
}
