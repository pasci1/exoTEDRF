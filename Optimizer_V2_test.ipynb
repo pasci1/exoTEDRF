{
 "cells": [
  {
   "cell_type": "code",
   "execution_count": 1,
   "id": "69af11db-a3f0-498b-90c0-6e6a7148a548",
   "metadata": {},
   "outputs": [
    {
     "data": {
      "text/plain": [
       "'jwst_1322.pmap'"
      ]
     },
     "execution_count": 1,
     "metadata": {},
     "output_type": "execute_result"
    }
   ],
   "source": [
    "import os\n",
    "os.environ.setdefault('CRDS_PATH', os.path.join(os.getcwd(),'Optimize_WASP39b','crds_cache'))\n",
    "os.environ.setdefault('CRDS_SERVER_URL', 'https://jwst-crds.stsci.edu')\n",
    "os.environ.setdefault('CRDS_CONTEXT',    'jwst_1322.pmap')\n"
   ]
  },
  {
   "cell_type": "code",
   "execution_count": null,
   "id": "9b72b67e-82cb-4cab-ae80-c7ed5ac29d9e",
   "metadata": {},
   "outputs": [
    {
     "name": "stdout",
     "output_type": "stream",
     "text": [
      "2025-07-16 10:31:59,548 - stpipe - WARNING - /data/pascal/exoTEDRF_fork/exoenv_fork/lib/python3.10/site-packages/pastasoss/soss_traces.py:10: UserWarning: pkg_resources is deprecated as an API. See https://setuptools.pypa.io/en/latest/pkg_resources.html. The pkg_resources package is slated for removal as early as 2025-11-30. Refrain from using this package or pin to Setuptools<81.\n",
      "  from pkg_resources import resource_filename\n",
      "\n",
      "WebbPSF not installed. Profile simulation not available.\n",
      "2025-07-16 10:31:59.571 - exoTEDRF - INFO - [WARN] No files in Optimize_WASP39b/DMS_uncal, globbing *.fits\n",
      "2025-07-16 10:31:59.571 - exoTEDRF - INFO - Using 8 segment(s) from Optimize_WASP39b/DMS_uncal\n",
      "2025-07-16 10:32:02.654 - exoTEDRF - INFO - → Optimizing time_window (fixed-other={time_rejection_threshold:4, space_outlier_threshold:10, time_outlier_threshold:10, extract_width:5})\n",
      "2025-07-16 10:32:02.654 - exoTEDRF - INFO - Step 1/9: time_window=15\n",
      "\n",
      "############################################ \n",
      " Step: 1/9 starting time_window=15 \n",
      "############################################\n",
      "\n",
      "start running Stage 1 from Fork\n",
      "2025-07-16 10:32:02.654 - exoTEDRF - INFO - **Starting exoTEDRF Stage 1**\n",
      "2025-07-16 10:32:02.654 - exoTEDRF - INFO - Detector level processing\n",
      "2025-07-16 10:32:02.659 - exoTEDRF - WARNING - Setting \"save_results=False\" can be memory intensive.\n",
      "2025-07-16 10:32:02,661 - stpipe.DQInitStep - INFO - DQInitStep instance created.\n",
      "2025-07-16 10:32:03,072 - stpipe.DQInitStep - INFO - DQInitStep instance created.\n",
      "2025-07-16 10:32:03,283 - stpipe.DQInitStep - INFO - Step DQInitStep running with args (<Level1bModel(60, 70, 32, 2048) from jw01366003001_04101_00001-seg001_nrs1_uncal.fits>,).\n",
      "2025-07-16 10:32:03,284 - stpipe.DQInitStep - INFO - Step DQInitStep parameters are:\n",
      "  pre_hooks: []\n",
      "  post_hooks: []\n",
      "  output_file: None\n",
      "  output_dir: ./pipeline_outputs_directory/Stage1/\n",
      "  output_ext: .fits\n",
      "  output_use_model: False\n",
      "  output_use_index: True\n",
      "  save_results: False\n",
      "  skip: False\n",
      "  suffix: None\n",
      "  search_output_file: True\n",
      "  input_dir: ''\n",
      "2025-07-16 10:32:03,632 - stpipe.DQInitStep - INFO - Using MASK reference file /data/pascal/exoTEDRF_fork/Optimize_WASP39b/crds_cache/references/jwst/nirspec/jwst_nirspec_mask_0051.fits\n",
      "2025-07-16 10:32:04,498 - stpipe.DQInitStep - INFO - Extracting mask subarray to match science data\n",
      "2025-07-16 10:32:05,300 - stpipe.DQInitStep - INFO - Results used CRDS context: jwst_1322.pmap\n",
      "2025-07-16 10:32:05,301 - stpipe.DQInitStep - INFO - Step DQInitStep done\n",
      "2025-07-16 10:32:05,301 - stpipe - INFO - Results used jwst version: 1.17.1\n",
      "2025-07-16 10:32:05.301 - exoTEDRF - WARNING - EmiCorrStep not supported for NIRSpec/PRISM.\n",
      "2025-07-16 10:32:05.301 - exoTEDRF - WARNING - Setting \"save_results=False\" can be memory intensive.\n",
      "2025-07-16 10:32:05,302 - stpipe.SaturationStep - INFO - SaturationStep instance created.\n",
      "2025-07-16 10:32:05,310 - stpipe.SaturationStep - INFO - SaturationStep instance created.\n",
      "2025-07-16 10:32:05,511 - stpipe.SaturationStep - INFO - Step SaturationStep running with args (<RampModel(60, 70, 32, 2048) from jw01366003001_04101_00001-seg001_nrs1_uncal.fits>,).\n",
      "2025-07-16 10:32:05,513 - stpipe.SaturationStep - INFO - Step SaturationStep parameters are:\n",
      "  pre_hooks: []\n",
      "  post_hooks: []\n",
      "  output_file: None\n",
      "  output_dir: ./pipeline_outputs_directory/Stage1/\n",
      "  output_ext: .fits\n",
      "  output_use_model: False\n",
      "  output_use_index: True\n",
      "  save_results: False\n",
      "  skip: False\n",
      "  suffix: None\n",
      "  search_output_file: True\n",
      "  input_dir: ''\n",
      "  n_pix_grow_sat: 1\n",
      "  use_readpatt: True\n",
      "2025-07-16 10:32:05,523 - stpipe.SaturationStep - INFO - Using SATURATION reference file /data/pascal/exoTEDRF_fork/Optimize_WASP39b/crds_cache/references/jwst/nirspec/jwst_nirspec_saturation_0028.fits\n",
      "2025-07-16 10:32:06,296 - stpipe.SaturationStep - INFO - Extracting reference file subarray to match science data\n",
      "2025-07-16 10:32:06,302 - stpipe.SaturationStep - INFO - Using read_pattern with nframes 1\n"
     ]
    }
   ],
   "source": [
    "!time python3 exotedrf/optimizer_V2.py \\\n",
    "    --config Optimize_WASP39b/run_WASP39b.yaml \\\n",
    "    --instrument NIRSPEC\n"
   ]
  },
  {
   "cell_type": "code",
   "execution_count": null,
   "id": "9907da5d-e024-4aa1-b8a1-1a98625a3336",
   "metadata": {},
   "outputs": [],
   "source": [
    "from IPython.display import Javascript\n",
    "\n",
    "def notify():\n",
    "    display(Javascript('alert(\"Notebook cell finished!\")'))\n",
    "\n",
    "notify()"
   ]
  },
  {
   "cell_type": "code",
   "execution_count": null,
   "id": "cf6a4da4-6acb-443b-bbc9-3db3950b4ba6",
   "metadata": {},
   "outputs": [],
   "source": []
  },
  {
   "cell_type": "code",
   "execution_count": null,
   "id": "78d39ba3-e7de-4c8d-b358-3c52a55ead0a",
   "metadata": {},
   "outputs": [],
   "source": []
  },
  {
   "cell_type": "code",
   "execution_count": null,
   "id": "87d5d055-9ddf-4d16-a778-d3dcbb04a039",
   "metadata": {},
   "outputs": [],
   "source": []
  },
  {
   "cell_type": "code",
   "execution_count": null,
   "id": "bbddd151-5938-4b44-9cfc-2e99147c636a",
   "metadata": {},
   "outputs": [],
   "source": []
  },
  {
   "cell_type": "code",
   "execution_count": null,
   "id": "423ce37b-c0b0-4faf-85cc-9425d5180826",
   "metadata": {},
   "outputs": [],
   "source": []
  }
 ],
 "metadata": {
  "kernelspec": {
   "display_name": "Python (exoenv_fork)",
   "language": "python",
   "name": "exoenv_fork"
  },
  "language_info": {
   "codemirror_mode": {
    "name": "ipython",
    "version": 3
   },
   "file_extension": ".py",
   "mimetype": "text/x-python",
   "name": "python",
   "nbconvert_exporter": "python",
   "pygments_lexer": "ipython3",
   "version": "3.10.12"
  }
 },
 "nbformat": 4,
 "nbformat_minor": 5
}
