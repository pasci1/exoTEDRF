{
 "cells": [
  {
   "cell_type": "code",
   "execution_count": 1,
   "id": "ee4b9771-2df4-4690-8ce0-c334f09e4a27",
   "metadata": {},
   "outputs": [],
   "source": [
    "# First thing to do is set your CRDS variables so we can download the most up-to-date JWST\n",
    "# reference files.\n",
    "\n",
    "import os\n",
    "os.environ['CRDS_PATH'] = './crds_cache'\n",
    "os.environ['CRDS_SERVER_URL'] = 'https://jwst-crds.stsci.edu'"
   ]
  },
  {
   "cell_type": "code",
   "execution_count": 2,
   "id": "ac54b66f-b1c1-4387-b1dc-43511b8adcbf",
   "metadata": {},
   "outputs": [
    {
     "name": "stdout",
     "output_type": "stream",
     "text": [
      "INFO: Found cached file ./mastDownload/JWST/jw01366003001_02101_00001-seg001_nrs1/jw01366003001_02101_00001-seg001_nrs1_uncal.fits with expected size 72000. [astroquery.query]\n",
      "INFO: Found cached file ./mastDownload/JWST/jw01366003001_02101_00002-seg001_nrs1/jw01366003001_02101_00002-seg001_nrs1_uncal.fits with expected size 60480. [astroquery.query]\n",
      " [Done]\n"
     ]
    },
    {
     "name": "stderr",
     "output_type": "stream",
     "text": [
      "WARNING: Found cached file ./mastDownload/JWST/jw01366003001_04101_00001-seg001_nrs1/jw01366003001_04101_00001-seg001_nrs1_uncal.fits with size 249364480 that is different from expected size 1422204480 [astroquery.query]\n"
     ]
    },
    {
     "name": "stdout",
     "output_type": "stream",
     "text": [
      "Downloading URL https://mast.stsci.edu/api/v0.1/Download/file?uri=mast:JWST/product/jw01366003001_04101_00001-seg001_nrs2_uncal.fits to ./mastDownload/JWST/jw01366003001_04101_00001-seg001_nrs2/jw01366003001_04101_00001-seg001_nrs2_uncal.fits ... [Done]\n",
      "Downloading URL https://mast.stsci.edu/api/v0.1/Download/file?uri=mast:JWST/product/jw01366003001_04101_00001-seg002_nrs1_uncal.fits to ./mastDownload/JWST/jw01366003001_04101_00001-seg002_nrs1/jw01366003001_04101_00001-seg002_nrs1_uncal.fits ... [Done]\n",
      "Downloading URL https://mast.stsci.edu/api/v0.1/Download/file?uri=mast:JWST/product/jw01366003001_04101_00001-seg002_nrs2_uncal.fits to ./mastDownload/JWST/jw01366003001_04101_00001-seg002_nrs2/jw01366003001_04101_00001-seg002_nrs2_uncal.fits ... [Done]\n",
      "Downloading URL https://mast.stsci.edu/api/v0.1/Download/file?uri=mast:JWST/product/jw01366003001_04101_00001-seg003_nrs1_uncal.fits to ./mastDownload/JWST/jw01366003001_04101_00001-seg003_nrs1/jw01366003001_04101_00001-seg003_nrs1_uncal.fits ... [Done]\n",
      "Downloading URL https://mast.stsci.edu/api/v0.1/Download/file?uri=mast:JWST/product/jw01366003001_04101_00001-seg003_nrs2_uncal.fits to ./mastDownload/JWST/jw01366003001_04101_00001-seg003_nrs2/jw01366003001_04101_00001-seg003_nrs2_uncal.fits ... [Done]\n"
     ]
    }
   ],
   "source": [
    "from exotedrf.extra_functions import download_observations\n",
    "\n",
    "# We want all data associated with proposal ID 1366 for target WASP-39b. Additionally we\n",
    "# specify NIRSPEC/SLIT since this program also observed the same planet with NIRISS and NIRCam.\n",
    "# Lastly, we want to specify G395H as the filter since this target was also observed with PRISM!\n",
    "\n",
    "download_observations(proposal_id='1366', objectname='WASP-39b', instrument_name='NIRSPEC/SLIT',\n",
    "                      filters='G395H')\n",
    "\n",
    "# This will store all files in a folder in the present directory called DMS_uncal."
   ]
  },
  {
   "cell_type": "code",
   "execution_count": 3,
   "id": "c234dc52-a3f6-4e4c-b496-5f26977e38bc",
   "metadata": {},
   "outputs": [],
   "source": [
    "from exotedrf import utils\n",
    "\n",
    "# Generate output directories\n",
    "utils.verify_path('pipeline_outputs_directory')\n",
    "utils.verify_path('pipeline_outputs_directory/Stage1')\n",
    "utils.verify_path('pipeline_outputs_directory/Stage2')\n",
    "utils.verify_path('pipeline_outputs_directory/Stage3')\n",
    "utils.verify_path('pipeline_outputs_directory/Stage4')"
   ]
  },
  {
   "cell_type": "code",
   "execution_count": null,
   "id": "7f689a97-47bd-4fa1-9c1b-7d7d2e83ed50",
   "metadata": {},
   "outputs": [],
   "source": []
  }
 ],
 "metadata": {
  "kernelspec": {
   "display_name": "Python (exoenv_fork)",
   "language": "python",
   "name": "exoenv_fork"
  },
  "language_info": {
   "codemirror_mode": {
    "name": "ipython",
    "version": 3
   },
   "file_extension": ".py",
   "mimetype": "text/x-python",
   "name": "python",
   "nbconvert_exporter": "python",
   "pygments_lexer": "ipython3",
   "version": "3.10.12"
  }
 },
 "nbformat": 4,
 "nbformat_minor": 5
}
