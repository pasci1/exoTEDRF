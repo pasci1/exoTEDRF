{
 "cells": [
  {
   "cell_type": "code",
   "execution_count": 1,
   "id": "40971eaa-42ab-47be-a67d-e95b66fddf47",
   "metadata": {},
   "outputs": [
    {
     "name": "stdout",
     "output_type": "stream",
     "text": [
      "/data/pascal/exoTEDRF_fork\n",
      "/data/pascal/exoTEDRF_fork\n"
     ]
    },
    {
     "name": "stderr",
     "output_type": "stream",
     "text": [
      "/data/pascal/exoTEDRF_fork/exoenv_fork/lib/python3.10/site-packages/IPython/core/magics/osm.py:393: UserWarning: This is now an optional IPython functionality, using bookmarks requires you to install the `pickleshare` library.\n",
      "  bkms = self.shell.db.get('bookmarks', {})\n",
      "/data/pascal/exoTEDRF_fork/exoenv_fork/lib/python3.10/site-packages/IPython/core/magics/osm.py:417: UserWarning: This is now an optional IPython functionality, setting dhist requires you to install the `pickleshare` library.\n",
      "  self.shell.db['dhist'] = compress_dhist(dhist)[-100:]\n"
     ]
    },
    {
     "name": "stdout",
     "output_type": "stream",
     "text": [
      "changelog.md\t\t  exotedrf.egg-info\t pipeline_outputs_directory\n",
      "Check_install_fork.ipynb  __init__.py\t\t README.md\n",
      "Cost_function.txt\t  joss\t\t\t readthedocs.yaml\n",
      "docs\t\t\t  LICENSE\t\t setup.py\n",
      "exoenv_fork\t\t  optimize_stage1.ipynb  WASP39b_test\n",
      "exotedrf\t\t  Optimize_WASP39b\n"
     ]
    }
   ],
   "source": [
    "# 1) ensure we’re in the repo root\n",
    "%cd ~/hard_disk/exoTEDRF_fork\n",
    "!pwd\n",
    "!ls\n",
    "\n",
    "# 2) add repo-root to PYTHONPATH\n",
    "import sys, os\n",
    "sys.path.insert(0, os.getcwd())\n"
   ]
  },
  {
   "cell_type": "code",
   "execution_count": 2,
   "id": "9cca50e8-f06d-4d2c-99c7-bd23ccafd6ed",
   "metadata": {},
   "outputs": [
    {
     "name": "stdout",
     "output_type": "stream",
     "text": [
      "CRDS_PATH:    /data/pascal/exoTEDRF_fork/Optimize_WASP39b/crds_cache\n",
      "CRDS_SERVER_URL: https://jwst-crds.stsci.edu\n",
      "CRDS_CONTEXT: jwst_1322.pmap\n"
     ]
    }
   ],
   "source": [
    "import os\n",
    "\n",
    "# point CRDS at your Optimize_WASP39b cache\n",
    "os.environ['CRDS_PATH']       = os.path.join(os.getcwd(), 'Optimize_WASP39b', 'crds_cache')\n",
    "os.environ['CRDS_SERVER_URL'] = 'https://jwst-crds.stsci.edu'\n",
    "# force CRDS to use your locally‐cached pmap\n",
    "os.environ['CRDS_CONTEXT']    = 'jwst_1322.pmap'\n",
    "\n",
    "print(\"CRDS_PATH:   \", os.environ['CRDS_PATH'])\n",
    "print(\"CRDS_SERVER_URL:\", os.environ['CRDS_SERVER_URL'])\n",
    "print(\"CRDS_CONTEXT:\", os.environ['CRDS_CONTEXT'])\n"
   ]
  },
  {
   "cell_type": "code",
   "execution_count": 3,
   "id": "d2155417-b459-41ae-b3fa-a0c651b1cbc4",
   "metadata": {},
   "outputs": [
    {
     "data": {
      "text/plain": [
       "'# Cell 2: open & slice the first 50 ints of segment 1\\nfrom jwst import datamodels\\nfrom exotedrf.utils import parse_config\\n\\n# Load the YAML from Optimize_WASP39b/\\ncfg = parse_config(\"Optimize_WASP39b/run_WASP39b.yaml\")\\n\\n# Full path into the DMS_uncal folder\\nseg1 = \"Optimize_WASP39b/DMS_uncal/jw01366003001_04101_00001-seg001_nrs1_uncal.fits\"\\nprint(\"seg1 →\", seg1)\\n\\n# Open and slice\\ndm_full = datamodels.open(seg1)\\nK = 50\\ndm_slice = dm_full.copy()\\ndm_slice.data = dm_full.data[:K]\\ndm_slice.meta.exposure.nints = K\\ndm_full.close()\\n\\nprint(f\"Sliced → dm_slice.data.shape = {dm_slice.data.shape}\")\\nprint(f\"Meta nints = {dm_slice.meta.exposure.nints}\")\\n'"
      ]
     },
     "execution_count": 3,
     "metadata": {},
     "output_type": "execute_result"
    }
   ],
   "source": [
    "\"\"\"# Cell 2: open & slice the first 50 ints of segment 1\n",
    "from jwst import datamodels\n",
    "from exotedrf.utils import parse_config\n",
    "\n",
    "# Load the YAML from Optimize_WASP39b/\n",
    "cfg = parse_config(\"Optimize_WASP39b/run_WASP39b.yaml\")\n",
    "\n",
    "# Full path into the DMS_uncal folder\n",
    "seg1 = \"Optimize_WASP39b/DMS_uncal/jw01366003001_04101_00001-seg001_nrs1_uncal.fits\"\n",
    "print(\"seg1 →\", seg1)\n",
    "\n",
    "# Open and slice\n",
    "dm_full = datamodels.open(seg1)\n",
    "K = 50\n",
    "dm_slice = dm_full.copy()\n",
    "dm_slice.data = dm_full.data[:K]\n",
    "dm_slice.meta.exposure.nints = K\n",
    "dm_full.close()\n",
    "\n",
    "print(f\"Sliced → dm_slice.data.shape = {dm_slice.data.shape}\")\n",
    "print(f\"Meta nints = {dm_slice.meta.exposure.nints}\")\n",
    "\"\"\""
   ]
  },
  {
   "cell_type": "code",
   "execution_count": 4,
   "id": "ee051af2-63e9-4521-8275-686c7923990c",
   "metadata": {},
   "outputs": [
    {
     "data": {
      "text/plain": [
       "'# Cell 3: time Stage 1 on the 50-int slice\\nimport time\\nfrom exotedrf.stage1 import run_stage1\\n\\n# Run with skip_steps=[\\'OneOverFStep\\',\\'JumpStep\\']\\nt0 = time.perf_counter()\\nresult = run_stage1(\\n    [dm_slice],\\n    mode=cfg[\\'observing_mode\\'],\\n    baseline_ints=dm_slice.meta.exposure.nints,\\n    save_results=False,\\n    skip_steps=[\\'OneOverFStep\\',\\'JumpStep\\'],\\n    nirspec_mask_width=cfg[\\'nirspec_mask_width\\'],\\n    **cfg[\\'stage1_kwargs\\']\\n)\\nt1 = time.perf_counter()\\n\\nprint(f\"→ Stage 1 on 50 ints took {t1 - t0:.1f} s\")\\n'"
      ]
     },
     "execution_count": 4,
     "metadata": {},
     "output_type": "execute_result"
    }
   ],
   "source": [
    "\"\"\"# Cell 3: time Stage 1 on the 50-int slice\n",
    "import time\n",
    "from exotedrf.stage1 import run_stage1\n",
    "\n",
    "# Run with skip_steps=['OneOverFStep','JumpStep']\n",
    "t0 = time.perf_counter()\n",
    "result = run_stage1(\n",
    "    [dm_slice],\n",
    "    mode=cfg['observing_mode'],\n",
    "    baseline_ints=dm_slice.meta.exposure.nints,\n",
    "    save_results=False,\n",
    "    skip_steps=['OneOverFStep','JumpStep'],\n",
    "    nirspec_mask_width=cfg['nirspec_mask_width'],\n",
    "    **cfg['stage1_kwargs']\n",
    ")\n",
    "t1 = time.perf_counter()\n",
    "\n",
    "print(f\"→ Stage 1 on 50 ints took {t1 - t0:.1f} s\")\n",
    "\"\"\""
   ]
  },
  {
   "cell_type": "code",
   "execution_count": 5,
   "id": "078f7509-fcab-459f-9291-f2de6a81b09f",
   "metadata": {},
   "outputs": [
    {
     "name": "stdout",
     "output_type": "stream",
     "text": [
      "./exotedrf/optimize.py\n"
     ]
    }
   ],
   "source": [
    "# from your notebook, still in /data/pascal/exoTEDRF_fork\n",
    "!find . -maxdepth 2 -name \"optimize.py\"\n"
   ]
  },
  {
   "cell_type": "code",
   "execution_count": null,
   "id": "172725e3-7da5-4d8b-9f8b-cb797e193f07",
   "metadata": {},
   "outputs": [
    {
     "name": "stdout",
     "output_type": "stream",
     "text": [
      "\n",
      "→ Optimizing time_window (others fixed = {'box_size': 24, 'thresh': 24, 'rejection_threshold': 24, 'time_rejection_threshold': 24, 'nirspec_mask_width': 24, 'w1': 1.0, 'w2': 1.0, 'w3': 1.0})\n",
      "Running with params: {'time_window': 3, 'box_size': 24, 'thresh': 24, 'rejection_threshold': 24, 'time_rejection_threshold': 24, 'nirspec_mask_width': 24, 'w1': 1.0, 'w2': 1.0, 'w3': 1.0}\n",
      "start running Stage 1 from Fork\n",
      "2025-07-08 17:40:00.568 - exoTEDRF - INFO - **Starting exoTEDRF Stage 1**\n",
      "2025-07-08 17:40:00.568 - exoTEDRF - INFO - Detector level processing\n",
      "2025-07-08 17:40:00.572 - exoTEDRF - WARNING - Setting \"save_results=False\" can be memory intensive.\n",
      "2025-07-08 17:40:00,575 - stpipe.DQInitStep - INFO - DQInitStep instance created.\n",
      "2025-07-08 17:40:01,037 - stpipe.DQInitStep - INFO - DQInitStep instance created.\n",
      "2025-07-08 17:40:01,251 - stpipe.DQInitStep - INFO - Step DQInitStep running with args (<Level1bModel(60, 70, 32, 2048) from jw01366003001_04101_00001-seg001_nrs1_uncal.fits>,).\n",
      "2025-07-08 17:40:01,252 - stpipe.DQInitStep - INFO - Step DQInitStep parameters are:\n",
      "  pre_hooks: []\n",
      "  post_hooks: []\n",
      "  output_file: None\n",
      "  output_dir: ./pipeline_outputs_directory/Stage1/\n",
      "  output_ext: .fits\n",
      "  output_use_model: False\n",
      "  output_use_index: True\n",
      "  save_results: False\n",
      "  skip: False\n",
      "  suffix: None\n",
      "  search_output_file: True\n",
      "  input_dir: ''\n",
      "2025-07-08 17:40:01,600 - stpipe.DQInitStep - INFO - Using MASK reference file /data/pascal/exoTEDRF_fork/Optimize_WASP39b/crds_cache/references/jwst/nirspec/jwst_nirspec_mask_0051.fits\n",
      "2025-07-08 17:40:02,471 - stpipe.DQInitStep - INFO - Extracting mask subarray to match science data\n",
      "2025-07-08 17:40:03,280 - stpipe.DQInitStep - INFO - Results used CRDS context: jwst_1322.pmap\n",
      "2025-07-08 17:40:03,280 - stpipe.DQInitStep - INFO - Step DQInitStep done\n",
      "2025-07-08 17:40:03,280 - stpipe - INFO - Results used jwst version: 1.17.1\n",
      "2025-07-08 17:40:03.280 - exoTEDRF - WARNING - EmiCorrStep not supported for NIRSpec/PRISM.\n",
      "2025-07-08 17:40:03.280 - exoTEDRF - WARNING - Setting \"save_results=False\" can be memory intensive.\n",
      "2025-07-08 17:40:03,281 - stpipe.SaturationStep - INFO - SaturationStep instance created.\n",
      "2025-07-08 17:40:03,290 - stpipe.SaturationStep - INFO - SaturationStep instance created.\n",
      "2025-07-08 17:40:03,489 - stpipe.SaturationStep - INFO - Step SaturationStep running with args (<RampModel(60, 70, 32, 2048) from jw01366003001_04101_00001-seg001_nrs1_uncal.fits>,).\n",
      "2025-07-08 17:40:03,490 - stpipe.SaturationStep - INFO - Step SaturationStep parameters are:\n",
      "  pre_hooks: []\n",
      "  post_hooks: []\n",
      "  output_file: None\n",
      "  output_dir: ./pipeline_outputs_directory/Stage1/\n",
      "  output_ext: .fits\n",
      "  output_use_model: False\n",
      "  output_use_index: True\n",
      "  save_results: False\n",
      "  skip: False\n",
      "  suffix: None\n",
      "  search_output_file: True\n",
      "  input_dir: ''\n",
      "  n_pix_grow_sat: 1\n",
      "  use_readpatt: True\n",
      "2025-07-08 17:40:03,500 - stpipe.SaturationStep - INFO - Using SATURATION reference file /data/pascal/exoTEDRF_fork/Optimize_WASP39b/crds_cache/references/jwst/nirspec/jwst_nirspec_saturation_0028.fits\n",
      "2025-07-08 17:40:04,255 - stpipe.SaturationStep - INFO - Extracting reference file subarray to match science data\n",
      "2025-07-08 17:40:04,262 - stpipe.SaturationStep - INFO - Using read_pattern with nframes 1\n",
      "2025-07-08 17:40:12,179 - stpipe.SaturationStep - INFO - Detected 320 saturated pixels\n",
      "2025-07-08 17:40:12,403 - stpipe.SaturationStep - INFO - Detected 0 A/D floor pixels\n",
      "2025-07-08 17:40:12,408 - stpipe.SaturationStep - INFO - Results used CRDS context: jwst_1322.pmap\n",
      "2025-07-08 17:40:12,408 - stpipe.SaturationStep - INFO - Step SaturationStep done\n",
      "2025-07-08 17:40:12,408 - stpipe - INFO - Results used jwst version: 1.17.1\n",
      "2025-07-08 17:40:12.408 - exoTEDRF - WARNING - ResetStep not supported for NIRSpec/PRISM.\n",
      "2025-07-08 17:40:12.425 - exoTEDRF - WARNING - Setting \"save_results=False\" can be memory intensive.\n",
      "2025-07-08 17:40:12,426 - stpipe.SuperBiasStep - INFO - SuperBiasStep instance created.\n",
      "2025-07-08 17:40:12,433 - stpipe.SuperBiasStep - INFO - SuperBiasStep instance created.\n",
      "2025-07-08 17:40:12,633 - stpipe.SuperBiasStep - INFO - Step SuperBiasStep running with args (<RampModel(60, 70, 32, 2048) from jw01366003001_04101_00001-seg001_nrs1_uncal.fits>,).\n",
      "2025-07-08 17:40:12,634 - stpipe.SuperBiasStep - INFO - Step SuperBiasStep parameters are:\n",
      "  pre_hooks: []\n",
      "  post_hooks: []\n",
      "  output_file: None\n",
      "  output_dir: ./pipeline_outputs_directory/Stage1/\n",
      "  output_ext: .fits\n",
      "  output_use_model: False\n",
      "  output_use_index: True\n",
      "  save_results: False\n",
      "  skip: False\n",
      "  suffix: None\n",
      "  search_output_file: True\n",
      "  input_dir: ''\n",
      "2025-07-08 17:40:12,645 - stpipe.SuperBiasStep - INFO - Using SUPERBIAS reference file /data/pascal/exoTEDRF_fork/Optimize_WASP39b/crds_cache/references/jwst/nirspec/jwst_nirspec_superbias_0427.fits\n",
      "2025-07-08 17:40:15,298 - stpipe.SuperBiasStep - INFO - Results used CRDS context: jwst_1322.pmap\n",
      "2025-07-08 17:40:15,298 - stpipe.SuperBiasStep - INFO - Step SuperBiasStep done\n",
      "2025-07-08 17:40:15,299 - stpipe - INFO - Results used jwst version: 1.17.1\n",
      "2025-07-08 17:40:15.299 - exoTEDRF - WARNING - RefPixStep not supported for NIRSpec/PRISM.\n",
      "2025-07-08 17:40:15.317 - exoTEDRF - WARNING - Setting \"save_results=False\" can be memory intensive.\n",
      "2025-07-08 17:40:15,318 - stpipe.DarkCurrentStep - INFO - DarkCurrentStep instance created.\n",
      "2025-07-08 17:40:15,323 - CRDS - ERROR -  Error determining best reference for 'pars-darkcurrentstep'  =   No match found.\n",
      "2025-07-08 17:40:15,324 - stpipe.DarkCurrentStep - INFO - DarkCurrentStep instance created.\n",
      "2025-07-08 17:40:15,525 - stpipe.DarkCurrentStep - INFO - Step DarkCurrentStep running with args (<RampModel(60, 70, 32, 2048) from jw01366003001_04101_00001-seg001_nrs1_uncal.fits>,).\n",
      "2025-07-08 17:40:15,527 - stpipe.DarkCurrentStep - INFO - Step DarkCurrentStep parameters are:\n",
      "  pre_hooks: []\n",
      "  post_hooks: []\n",
      "  output_file: None\n",
      "  output_dir: ./pipeline_outputs_directory/Stage1/\n",
      "  output_ext: .fits\n",
      "  output_use_model: False\n",
      "  output_use_index: True\n",
      "  save_results: False\n",
      "  skip: False\n",
      "  suffix: None\n",
      "  search_output_file: True\n",
      "  input_dir: ''\n",
      "  dark_output: None\n",
      "  average_dark_current: None\n",
      "2025-07-08 17:40:15,537 - stpipe.DarkCurrentStep - INFO - Using DARK reference file /data/pascal/exoTEDRF_fork/Optimize_WASP39b/crds_cache/references/jwst/nirspec/jwst_nirspec_dark_0438.fits\n",
      "2025-07-08 17:40:16,563 - stpipe.DarkCurrentStep - INFO - Science data nints=60, ngroups=70, nframes=1, groupgap=0\n",
      "2025-07-08 17:40:16,563 - stpipe.DarkCurrentStep - INFO - Dark data nints=1, ngroups=70, nframes=1, groupgap=0\n",
      "2025-07-08 17:40:18,031 - stpipe.DarkCurrentStep - INFO - Results used CRDS context: jwst_1322.pmap\n",
      "2025-07-08 17:40:18,031 - stpipe.DarkCurrentStep - INFO - Step DarkCurrentStep done\n",
      "2025-07-08 17:40:18,031 - stpipe - INFO - Results used jwst version: 1.17.1\n",
      "2025-07-08 17:40:18.053 - exoTEDRF - WARNING - Setting \"save_results=False\" can be memory intensive.\n",
      "2025-07-08 17:40:18.053 - exoTEDRF - INFO - OneOverFStep instance created.\n",
      "2025-07-08 17:40:18.053 - exoTEDRF - INFO - Creating reference deep stack.\n",
      "2025-07-08 17:40:20.995 - exoTEDRF - INFO - No centroids provided, locating trace positions.\n",
      "2025-07-08 17:40:21.017 - exoTEDRF - INFO - Starting 1/f correction step using the median method.\n",
      "2025-07-08 17:40:21.017 - exoTEDRF - INFO - Processing file jw01366003001_04101_00001-seg001_nrs1_uncal.fits.\n",
      "2025-07-08 17:40:21.017 - exoTEDRF - INFO - Unpacking centroids.\n",
      "2025-07-08 17:40:21.017 - exoTEDRF - WARNING - Dimension of passed centroids do not match data frame dimensions. New centroids will be calculated.\n",
      "2025-07-08 17:40:21.072 - exoTEDRF - WARNING - No outlier map passed, ignoring outliers.\n",
      "2025-07-08 17:40:21.078 - exoTEDRF - INFO - Constructing trace mask.\n",
      "2025-07-08 17:40:21.095 - exoTEDRF - INFO - Flagging additional outliers.\n",
      "2025-07-08 17:40:21.297 - exoTEDRF - INFO - Starting full frame correction.\n",
      "100%|███████████████████████████████████████████| 60/60 [00:02<00:00, 22.88it/s]\n",
      "2025-07-08 17:40:24.344 - exoTEDRF - INFO - Step OneOverFStep done.\n",
      "2025-07-08 17:40:24.352 - exoTEDRF - WARNING - Setting \"save_results=False\" can be memory intensive.\n",
      "2025-07-08 17:40:24,353 - stpipe.LinearityStep - INFO - LinearityStep instance created.\n",
      "2025-07-08 17:40:24,359 - stpipe.LinearityStep - INFO - LinearityStep instance created.\n",
      "2025-07-08 17:40:24,563 - stpipe.LinearityStep - INFO - Step LinearityStep running with args (<RampModel(60, 70, 32, 2048) from jw01366003001_04101_00001-seg001_nrs1_uncal.fits>,).\n",
      "2025-07-08 17:40:24,564 - stpipe.LinearityStep - INFO - Step LinearityStep parameters are:\n",
      "  pre_hooks: []\n",
      "  post_hooks: []\n",
      "  output_file: None\n",
      "  output_dir: ./pipeline_outputs_directory/Stage1/\n",
      "  output_ext: .fits\n",
      "  output_use_model: False\n",
      "  output_use_index: True\n",
      "  save_results: False\n",
      "  skip: False\n",
      "  suffix: None\n",
      "  search_output_file: True\n",
      "  input_dir: ''\n",
      "2025-07-08 17:40:24,575 - stpipe.LinearityStep - INFO - Using Linearity reference file /data/pascal/exoTEDRF_fork/Optimize_WASP39b/crds_cache/references/jwst/nirspec/jwst_nirspec_linearity_0024.fits\n",
      "2025-07-08 17:40:24,598 - stpipe.LinearityStep - WARNING - Keyword BAD_LIN_CORR does not correspond to an existing DQ mnemonic, so will be ignored\n",
      "2025-07-08 17:40:26,366 - stpipe.LinearityStep - INFO - Results used CRDS context: jwst_1322.pmap\n",
      "2025-07-08 17:40:26,366 - stpipe.LinearityStep - INFO - Step LinearityStep done\n",
      "2025-07-08 17:40:26,366 - stpipe - INFO - Results used jwst version: 1.17.1\n",
      "2025-07-08 17:40:26.391 - exoTEDRF - INFO - Starting time-domain jump detection step.\n",
      "2025-07-08 17:40:26.391 - exoTEDRF - INFO - Processing file jw01366003001_04101_00001-seg001_nrs1_uncal.fits.\n",
      " 96%|█████████████████████████████████████████▏ | 67/70 [01:21<00:03,  1.20s/it]"
     ]
    }
   ],
   "source": [
    "# Assuming it’s under exotedrf/\n",
    "!python3 exotedrf/optimize.py --config Optimize_WASP39b/run_WASP39b.yaml\n"
   ]
  },
  {
   "cell_type": "code",
   "execution_count": null,
   "id": "6477f1aa-1d5f-4c0a-93ed-fb071bef92e2",
   "metadata": {},
   "outputs": [],
   "source": [
    "from IPython.display import Javascript\n",
    "\n",
    "def notify():\n",
    "    display(Javascript('alert(\"Notebook cell finished!\")'))\n",
    "\n",
    "notify()"
   ]
  },
  {
   "cell_type": "code",
   "execution_count": null,
   "id": "69a9b839-e6b6-41fe-93f4-304712282f01",
   "metadata": {},
   "outputs": [],
   "source": []
  },
  {
   "cell_type": "code",
   "execution_count": null,
   "id": "441ed999-eba5-4f9f-bb94-efd1d695644c",
   "metadata": {},
   "outputs": [],
   "source": []
  },
  {
   "cell_type": "code",
   "execution_count": null,
   "id": "6ee5e213-14bf-4875-8f20-58749b7e0d9a",
   "metadata": {},
   "outputs": [],
   "source": []
  },
  {
   "cell_type": "code",
   "execution_count": null,
   "id": "35218d65-d534-4a82-a8cc-1780541e9138",
   "metadata": {},
   "outputs": [],
   "source": []
  },
  {
   "cell_type": "code",
   "execution_count": null,
   "id": "d4e6a30c-0c1e-4118-89cd-36b62bf9b27a",
   "metadata": {},
   "outputs": [],
   "source": []
  },
  {
   "cell_type": "code",
   "execution_count": null,
   "id": "216fd2be-b557-4646-8f65-c51312b7c063",
   "metadata": {},
   "outputs": [],
   "source": []
  },
  {
   "cell_type": "code",
   "execution_count": null,
   "id": "4b80b183-fea1-42e7-bd29-cec9d5584242",
   "metadata": {},
   "outputs": [],
   "source": []
  },
  {
   "cell_type": "code",
   "execution_count": null,
   "id": "15f6bbeb-7dd6-4b58-88d9-238ae94ed667",
   "metadata": {},
   "outputs": [],
   "source": []
  }
 ],
 "metadata": {
  "kernelspec": {
   "display_name": "Python (exoenv_fork)",
   "language": "python",
   "name": "exoenv_fork"
  },
  "language_info": {
   "codemirror_mode": {
    "name": "ipython",
    "version": 3
   },
   "file_extension": ".py",
   "mimetype": "text/x-python",
   "name": "python",
   "nbconvert_exporter": "python",
   "pygments_lexer": "ipython3",
   "version": "3.10.12"
  }
 },
 "nbformat": 4,
 "nbformat_minor": 5
}
