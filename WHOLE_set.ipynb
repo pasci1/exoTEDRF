{
 "cells": [
  {
   "cell_type": "code",
   "execution_count": 1,
   "id": "7a6a810f-2f55-4e16-ac0e-8cc69f2236d1",
   "metadata": {},
   "outputs": [
    {
     "data": {
      "text/plain": [
       "'jwst_1322.pmap'"
      ]
     },
     "execution_count": 1,
     "metadata": {},
     "output_type": "execute_result"
    }
   ],
   "source": [
    "import os\n",
    "os.environ.setdefault('CRDS_PATH', os.path.join(os.getcwd(),'Optimize_WASP39b','crds_cache'))\n",
    "os.environ.setdefault('CRDS_SERVER_URL', 'https://jwst-crds.stsci.edu')\n",
    "os.environ.setdefault('CRDS_CONTEXT',    'jwst_1322.pmap')"
   ]
  },
  {
   "cell_type": "code",
   "execution_count": null,
   "id": "90b18c15-d7b3-4cbd-8ddc-b28e996cbd89",
   "metadata": {},
   "outputs": [],
   "source": [
    "!time python3 exotedrf/Whole_set.py \\\n",
    "    --config Optimize_WASP39b/run_WASP39b.yaml \\\n",
    "    --instrument NIRSPEC"
   ]
  }
 ],
 "metadata": {
  "kernelspec": {
   "display_name": "Python (exoenv_fork)",
   "language": "python",
   "name": "exoenv_fork"
  },
  "language_info": {
   "codemirror_mode": {
    "name": "ipython",
    "version": 3
   },
   "file_extension": ".py",
   "mimetype": "text/x-python",
   "name": "python",
   "nbconvert_exporter": "python",
   "pygments_lexer": "ipython3",
   "version": "3.10.12"
  }
 },
 "nbformat": 4,
 "nbformat_minor": 5
}
