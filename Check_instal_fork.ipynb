{
 "cells": [
  {
   "cell_type": "code",
   "execution_count": 7,
   "id": "768eff96-93d2-491f-af73-e003d66c205b",
   "metadata": {},
   "outputs": [],
   "source": [
    "import exotedrf\n",
    "#print(exotedrf.__version__)\n"
   ]
  },
  {
   "cell_type": "code",
   "execution_count": 8,
   "id": "65a7bdee-0dcb-4d6d-8124-e77d4f3dc0e3",
   "metadata": {},
   "outputs": [
    {
     "name": "stdout",
     "output_type": "stream",
     "text": [
      "2.3.1\n"
     ]
    }
   ],
   "source": [
    "from importlib.metadata import version, PackageNotFoundError\n",
    "\n",
    "try:\n",
    "    print(version(\"exoTEDRF\"))\n",
    "except PackageNotFoundError:\n",
    "    print(\"Couldn’t find version metadata for exoTEDRF\")\n"
   ]
  },
  {
   "cell_type": "code",
   "execution_count": 9,
   "id": "55e3bafc-7078-46de-a2aa-3140b4571490",
   "metadata": {},
   "outputs": [
    {
     "ename": "SyntaxError",
     "evalue": "invalid syntax (1897009832.py, line 2)",
     "output_type": "error",
     "traceback": [
      "\u001b[0;36m  Cell \u001b[0;32mIn[9], line 2\u001b[0;36m\u001b[0m\n\u001b[0;31m    git checkout main\u001b[0m\n\u001b[0m        ^\u001b[0m\n\u001b[0;31mSyntaxError\u001b[0m\u001b[0;31m:\u001b[0m invalid syntax\n"
     ]
    }
   ],
   "source": [
    "# Make sure you’re on main and it’s up-to-date\n",
    "git checkout main\n",
    "git pull origin main\n",
    "\n",
    "# Create a new branch for your tweak\n",
    "git checkout -b fix-my-module\n"
   ]
  },
  {
   "cell_type": "code",
   "execution_count": null,
   "id": "bdc8016d-eaa0-4bcf-88e5-b300a21660f1",
   "metadata": {},
   "outputs": [],
   "source": []
  }
 ],
 "metadata": {
  "kernelspec": {
   "display_name": "Python (exoenv_fork)",
   "language": "python",
   "name": "exoenv_fork"
  },
  "language_info": {
   "codemirror_mode": {
    "name": "ipython",
    "version": 3
   },
   "file_extension": ".py",
   "mimetype": "text/x-python",
   "name": "python",
   "nbconvert_exporter": "python",
   "pygments_lexer": "ipython3",
   "version": "3.10.12"
  }
 },
 "nbformat": 4,
 "nbformat_minor": 5
}
